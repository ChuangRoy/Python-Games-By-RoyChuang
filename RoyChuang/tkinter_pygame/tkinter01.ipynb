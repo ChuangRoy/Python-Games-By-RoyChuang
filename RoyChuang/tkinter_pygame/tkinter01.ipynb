{
 "cells": [
  {
   "cell_type": "code",
   "execution_count": null,
   "id": "0d231c84",
   "metadata": {},
   "outputs": [],
   "source": [
    "from tkinter import *\n",
    "get_ipython().run_line_magic('gui', 'tk')"
   ]
  },
  {
   "cell_type": "code",
   "execution_count": null,
   "id": "aaf84ecc",
   "metadata": {},
   "outputs": [],
   "source": [
    "tk = Tk()"
   ]
  },
  {
   "cell_type": "code",
   "execution_count": null,
   "id": "9ab37382",
   "metadata": {},
   "outputs": [],
   "source": [
    "def click():\n",
    "    print(\"click\")\n",
    "\n",
    "\n",
    "button = Button(tk, text=\"Click Me\", command=click)\n",
    "button.pack()"
   ]
  },
  {
   "cell_type": "code",
   "execution_count": null,
   "id": "aa11fa54",
   "metadata": {},
   "outputs": [],
   "source": [
    "tk.mainloop()"
   ]
  },
  {
   "cell_type": "code",
   "execution_count": null,
   "id": "9cfafaa0-b624-40c5-8855-e9627598a176",
   "metadata": {},
   "outputs": [],
   "source": []
  }
 ],
 "metadata": {
  "kernelspec": {
   "display_name": "Python 3",
   "language": "python",
   "name": "python3"
  },
  "language_info": {
   "codemirror_mode": {
    "name": "ipython",
    "version": 3
   },
   "file_extension": ".py",
   "mimetype": "text/x-python",
   "name": "python",
   "nbconvert_exporter": "python",
   "pygments_lexer": "ipython3",
   "version": "3.8.8"
  }
 },
 "nbformat": 4,
 "nbformat_minor": 5
}
