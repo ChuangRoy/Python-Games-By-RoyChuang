{
 "cells": [
  {
   "cell_type": "code",
   "execution_count": null,
   "id": "a0a65eeb-f13a-436c-87b1-dc82b3d9e18a",
   "metadata": {},
   "outputs": [],
   "source": [
    "%run tkinter01.py"
   ]
  },
  {
   "cell_type": "code",
   "execution_count": null,
   "id": "7712fce6-81b3-41f8-8ad0-c0fa7ae9262d",
   "metadata": {},
   "outputs": [],
   "source": []
  }
 ],
 "metadata": {
  "kernelspec": {
   "display_name": "Python 3",
   "language": "python",
   "name": "python3"
  },
  "language_info": {
   "codemirror_mode": {
    "name": "ipython",
    "version": 3
   },
   "file_extension": ".py",
   "mimetype": "text/x-python",
   "name": "python",
   "nbconvert_exporter": "python",
   "pygments_lexer": "ipython3",
   "version": "3.8.8"
  }
 },
 "nbformat": 4,
 "nbformat_minor": 5
}
